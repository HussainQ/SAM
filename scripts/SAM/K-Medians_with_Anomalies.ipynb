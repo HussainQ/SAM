{
 "cells": [
  {
   "cell_type": "code",
   "execution_count": 1,
   "id": "18fe627d",
   "metadata": {
    "id": "18fe627d",
    "outputId": "5f92d7b7-032c-4a33-ddb7-e3e7181b474b"
   },
   "outputs": [
    {
     "name": "stdout",
     "output_type": "stream",
     "text": [
      "Requirement already satisfied: scikit-learn-extra in c:\\users\\yamin\\anaconda3\\lib\\site-packages (0.2.0)\n",
      "Requirement already satisfied: scikit-learn>=0.23.0 in c:\\users\\yamin\\anaconda3\\lib\\site-packages (from scikit-learn-extra) (1.0.2)\n",
      "Requirement already satisfied: numpy>=1.13.3 in c:\\users\\yamin\\anaconda3\\lib\\site-packages (from scikit-learn-extra) (1.21.5)\n",
      "Requirement already satisfied: scipy>=0.19.1 in c:\\users\\yamin\\anaconda3\\lib\\site-packages (from scikit-learn-extra) (1.7.3)\n",
      "Requirement already satisfied: joblib>=0.11 in c:\\users\\yamin\\anaconda3\\lib\\site-packages (from scikit-learn>=0.23.0->scikit-learn-extra) (1.1.0)\n",
      "Requirement already satisfied: threadpoolctl>=2.0.0 in c:\\users\\yamin\\anaconda3\\lib\\site-packages (from scikit-learn>=0.23.0->scikit-learn-extra) (2.2.0)\n",
      "Note: you may need to restart the kernel to use updated packages.\n"
     ]
    }
   ],
   "source": [
    "pip install scikit-learn-extra"
   ]
  },
  {
   "cell_type": "code",
   "execution_count": 4,
   "id": "ff99a5b6",
   "metadata": {
    "id": "ff99a5b6"
   },
   "outputs": [],
   "source": [
    "import numpy as np\n",
    "from sklearn_extra.cluster import KMedoids\n",
    "from sklearn.metrics import silhouette_score\n",
    "from tabulate import tabulate\n",
    "from sklearn.metrics import pairwise_distances\n",
    "import os"
   ]
  },
  {
   "cell_type": "code",
   "execution_count": 5,
   "id": "2b53201b",
   "metadata": {
    "id": "2b53201b"
   },
   "outputs": [],
   "source": [
    "os.chdir('C:\\\\Users\\\\yamin\\\\OneDrive\\\\Desktop\\\\Features')"
   ]
  },
  {
   "cell_type": "code",
   "execution_count": 6,
   "id": "f25dca39",
   "metadata": {
    "id": "f25dca39"
   },
   "outputs": [],
   "source": [
    "# Read in the text file\n",
    "# load data from .txt file\n",
    "with open('11.txt', \"r\") as infile:\n",
    "    data = np.loadtxt(infile, delimiter=\",\")"
   ]
  },
  {
   "cell_type": "code",
   "execution_count": 11,
   "id": "30a57da0",
   "metadata": {
    "id": "30a57da0"
   },
   "outputs": [],
   "source": [
    "# Extract the first 1000 rows of data\n",
    "data = data[:1000, :]"
   ]
  },
  {
   "cell_type": "code",
   "execution_count": 12,
   "id": "6895826c",
   "metadata": {
    "id": "6895826c"
   },
   "outputs": [],
   "source": [
    "# Split the data into features and labels\n",
    "features = data[:, 1:]\n",
    "labels = data[:, 0]"
   ]
  },
  {
   "cell_type": "code",
   "execution_count": 13,
   "id": "b6b1d864",
   "metadata": {
    "id": "b6b1d864",
    "outputId": "77b4ede4-d4b3-4dde-c15d-ed0bbd55b268"
   },
   "outputs": [
    {
     "name": "stdout",
     "output_type": "stream",
     "text": [
      "K = 3, Silhouette Coefficient: -0.5785301086421479, Inertia: 1.2116454300844166e+16\n",
      "Medoids: [[0.00000e+00 0.00000e+00 1.48000e+02 0.00000e+00 0.00000e+00 0.00000e+00\n",
      "  0.00000e+00 0.00000e+00 8.00000e+01 0.00000e+00 0.00000e+00 0.00000e+00\n",
      "  2.00000e+00 0.00000e+00 5.42500e+02 8.82919e+05 1.11000e+02 4.10700e+03\n",
      "  2.40500e+02 1.73521e+05 3.07000e+02 2.82747e+05 6.00000e+01 1.20000e+03\n",
      "  7.75000e+00 1.80188e+02 1.50000e+00 7.50000e-01]\n",
      " [3.80116e+05 8.04530e+12 1.30108e+05 6.73698e+11 2.26656e+02 1.44612e+05\n",
      "  3.32987e+05 6.17815e+12 9.34586e+04 3.10725e+11 1.09916e+03 6.96814e+07\n",
      "  8.50156e+02 4.08252e+07 2.69655e+05 0.00000e+00 2.76465e+05 0.00000e+00\n",
      "  9.68000e+02 0.00000e+00 2.45913e+05 0.00000e+00 2.55399e+05 0.00000e+00\n",
      "  4.15000e+02 0.00000e+00 3.84000e+02 0.00000e+00]\n",
      " [2.81870e+03 5.82920e+07 3.65149e+03 1.23798e+08 4.39573e+02 1.81337e+05\n",
      "  1.19250e+03 7.34756e+06 1.86947e+03 2.91525e+07 2.70417e+01 6.61419e+03\n",
      "  2.91979e+01 8.58789e+03 2.99150e+04 0.00000e+00 2.82850e+04 0.00000e+00\n",
      "  9.38000e+02 0.00000e+00 1.80350e+04 0.00000e+00 1.66850e+04 0.00000e+00\n",
      "  2.12000e+02 0.00000e+00 2.01000e+02 0.00000e+00]]\n",
      "Anomalies: 2\n",
      "\n",
      "K = 4, Silhouette Coefficient: 0.30550961677556704, Inertia: 1.204401364023146e+16\n",
      "Medoids: [[3.80116e+05 8.04530e+12 1.30108e+05 6.73698e+11 2.26656e+02 1.44612e+05\n",
      "  3.32987e+05 6.17815e+12 9.34586e+04 3.10725e+11 1.09916e+03 6.96814e+07\n",
      "  8.50156e+02 4.08252e+07 2.69655e+05 0.00000e+00 2.76465e+05 0.00000e+00\n",
      "  9.68000e+02 0.00000e+00 2.45913e+05 0.00000e+00 2.55399e+05 0.00000e+00\n",
      "  4.15000e+02 0.00000e+00 3.84000e+02 0.00000e+00]\n",
      " [1.47625e+05 3.96586e+09 5.18493e+06 4.88176e+12 6.91818e+02 9.30385e+04\n",
      "  0.00000e+00 0.00000e+00 4.99997e+06 4.53981e+12 2.31500e+03 9.73642e+05\n",
      "  3.42509e+03 2.12893e+06 1.47625e+05 3.96586e+09 5.18493e+06 4.88176e+12\n",
      "  6.91818e+02 9.30385e+04 0.00000e+00 0.00000e+00 4.99997e+06 4.53981e+12\n",
      "  2.31500e+03 9.73642e+05 3.42509e+03 2.12893e+06]\n",
      " [3.06400e+03 5.92900e+03 1.52850e+03 2.20522e+04 6.51000e+02 0.00000e+00\n",
      "  3.49000e+02 2.56000e+02 1.18500e+02 9.30250e+02 4.75000e+01 2.25000e+00\n",
      "  2.50000e+01 4.00000e+00 3.14100e+03 0.00000e+00 1.67700e+03 0.00000e+00\n",
      "  6.51000e+02 0.00000e+00 3.33000e+02 0.00000e+00 1.49000e+02 0.00000e+00\n",
      "  4.90000e+01 0.00000e+00 2.70000e+01 0.00000e+00]\n",
      " [5.20600e+03 0.00000e+00 3.03000e+03 0.00000e+00 4.15000e+02 0.00000e+00\n",
      "  2.69800e+03 0.00000e+00 2.00000e+02 0.00000e+00 4.40000e+01 0.00000e+00\n",
      "  4.90000e+01 0.00000e+00 3.31343e+03 5.29182e+07 2.36527e+03 2.75355e+07\n",
      "  3.34774e+02 1.77557e+05 1.58363e+03 1.19565e+07 8.17905e+02 3.74290e+06\n",
      "  2.79762e+01 3.78074e+03 2.52143e+01 3.00019e+03]]\n",
      "Anomalies: 2\n",
      "\n",
      "K = 5, Silhouette Coefficient: -0.7523381853018789, Inertia: 1.21164505482623e+16\n",
      "Medoids: [[3.31600e+03 0.00000e+00 3.70000e+03 0.00000e+00 9.22000e+02 0.00000e+00\n",
      "  2.30700e+03 0.00000e+00 2.69200e+03 0.00000e+00 2.40000e+01 0.00000e+00\n",
      "  2.40000e+01 0.00000e+00 3.29063e+03 5.35121e+07 2.35727e+03 2.78618e+07\n",
      "  3.33807e+02 1.79618e+05 1.57020e+03 1.20854e+07 8.25349e+02 3.78334e+06\n",
      "  2.77831e+01 3.82316e+03 2.49277e+01 3.02944e+03]\n",
      " [7.70000e+01 0.00000e+00 6.10000e+01 0.00000e+00 0.00000e+00 0.00000e+00\n",
      "  3.50000e+01 0.00000e+00 1.90000e+01 0.00000e+00 1.00000e+00 0.00000e+00\n",
      "  1.00000e+00 0.00000e+00 1.30928e+03 2.04861e+07 7.99692e+02 6.22785e+06\n",
      "  1.11077e+02 6.03510e+04 8.92815e+02 8.90296e+06 3.78215e+02 1.40378e+06\n",
      "  7.20000e+00 6.67883e+02 7.29231e+00 5.70761e+02]\n",
      " [3.06400e+03 5.92900e+03 1.52850e+03 2.20522e+04 6.51000e+02 0.00000e+00\n",
      "  3.49000e+02 2.56000e+02 1.18500e+02 9.30250e+02 4.75000e+01 2.25000e+00\n",
      "  2.50000e+01 4.00000e+00 3.14100e+03 0.00000e+00 1.67700e+03 0.00000e+00\n",
      "  6.51000e+02 0.00000e+00 3.33000e+02 0.00000e+00 1.49000e+02 0.00000e+00\n",
      "  4.90000e+01 0.00000e+00 2.70000e+01 0.00000e+00]\n",
      " [1.63384e+07 0.00000e+00 8.36682e+05 0.00000e+00 9.71000e+02 0.00000e+00\n",
      "  1.55004e+07 0.00000e+00 0.00000e+00 0.00000e+00 1.26970e+04 0.00000e+00\n",
      "  1.26770e+04 0.00000e+00 1.63384e+07 0.00000e+00 8.36682e+05 0.00000e+00\n",
      "  9.71000e+02 0.00000e+00 1.55004e+07 0.00000e+00 0.00000e+00 0.00000e+00\n",
      "  1.26970e+04 0.00000e+00 1.26770e+04 0.00000e+00]\n",
      " [3.80116e+05 8.04530e+12 1.30108e+05 6.73698e+11 2.26656e+02 1.44612e+05\n",
      "  3.32987e+05 6.17815e+12 9.34586e+04 3.10725e+11 1.09916e+03 6.96814e+07\n",
      "  8.50156e+02 4.08252e+07 2.69655e+05 0.00000e+00 2.76465e+05 0.00000e+00\n",
      "  9.68000e+02 0.00000e+00 2.45913e+05 0.00000e+00 2.55399e+05 0.00000e+00\n",
      "  4.15000e+02 0.00000e+00 3.84000e+02 0.00000e+00]]\n",
      "Anomalies: 2\n",
      "\n"
     ]
    }
   ],
   "source": [
    "# Set the range of K values to try\n",
    "k_values = range(3, 6)\n",
    "\n",
    "# Initialize the KMedoids models\n",
    "k_medoids_models = [KMedoids(n_clusters=k, init=\"random\", metric=\"euclidean\") for k in k_values]\n",
    "\n",
    "table_data = []\n",
    "# Fit the models to the data and get the predicted labels and medoids for each K value\n",
    "predicted_labels_and_medoids = []\n",
    "for k_medoids in k_medoids_models:\n",
    "    k_medoids.fit(features)\n",
    "    predicted_labels = k_medoids.labels_\n",
    "    medoids = k_medoids.cluster_centers_\n",
    "    predicted_labels_and_medoids.append((predicted_labels, medoids))\n",
    "\n",
    "    # Compute Silhouette Coefficient and Inertia\n",
    "    silhouette_coef = silhouette_score(features, predicted_labels)\n",
    "    inertia = sum(np.min(k_medoids.transform(features), axis=1))\n",
    "\n",
    "    # Compute distances between each point and its assigned medoid\n",
    "    distances = pairwise_distances(features, medoids)\n",
    "    \n",
    "    # Set a threshold value for anomaly detection\n",
    "    threshold = np.mean(distances) + 2*np.std(distances)\n",
    "    # Identify anomalies as points that are farther away from their medoid than the threshold value\n",
    "    anomalies = np.where(distances > threshold)\n",
    "    anomalies_count = len(anomalies)\n",
    "\n",
    "    print(f\"K = {k_medoids.n_clusters}, Silhouette Coefficient: {silhouette_coef}, Inertia: {inertia}\")\n",
    "    #print(f\"Predicted Labels: {predicted_labels}\")\n",
    "    print(f\"Medoids: {medoids}\")\n",
    "    print(f\"Anomalies: {anomalies_count}\")\n",
    "    print()\n",
    "    "
   ]
  },
  {
   "cell_type": "markdown",
   "id": "251b77bc",
   "metadata": {},
   "source": [
    "### Visualize Clusters"
   ]
  },
  {
   "cell_type": "code",
   "execution_count": 15,
   "id": "a7912663",
   "metadata": {},
   "outputs": [],
   "source": [
    "import matplotlib.pyplot as plt"
   ]
  },
  {
   "cell_type": "code",
   "execution_count": 16,
   "id": "8836219a",
   "metadata": {},
   "outputs": [
    {
     "data": {
      "image/png": "[encoded data removed]",
      "text/plain": [
       "<Figure size 432x288 with 1 Axes>"
      ]
     },
     "metadata": {
      "needs_background": "light"
     },
     "output_type": "display_data"
    },
    {
     "data": {
      "image/png": "[encoded data removed]",
      "text/plain": [
       "<Figure size 432x288 with 1 Axes>"
      ]
     },
     "metadata": {
      "needs_background": "light"
     },
     "output_type": "display_data"
    },
    {
     "data": {
      "image/png": "[encoded data removed]",
      "text/plain": [
       "<Figure size 432x288 with 1 Axes>"
      ]
     },
     "metadata": {
      "needs_background": "light"
     },
     "output_type": "display_data"
    }
   ],
   "source": [
    "for i, (predicted_labels, medoids) in enumerate(predicted_labels_and_medoids):\n",
    "    plt.figure(i)\n",
    "    plt.scatter(features[:, 0], features[:, 1], c=predicted_labels)\n",
    "    plt.scatter(medoids[:, 0], medoids[:, 1], marker='*', s=200, c='#050505')\n",
    "    plt.title(f'K={k_values[i]}')\n",
    "    plt.show()"
   ]
  },
  {
   "cell_type": "markdown",
   "id": "6cdbc23a",
   "metadata": {},
   "source": [
    "### Elbow method to determine the optimum number of clusters"
   ]
  },
  {
   "cell_type": "code",
   "execution_count": 17,
   "id": "b8fa2b1f",
   "metadata": {},
   "outputs": [
    {
     "data": {
      "image/png": "[encoded data removed]",
      "text/plain": [
       "<Figure size 432x288 with 1 Axes>"
      ]
     },
     "metadata": {
      "needs_background": "light"
     },
     "output_type": "display_data"
    }
   ],
   "source": [
    "from sklearn.cluster import KMeans\n",
    "inertias = []\n",
    "for k in k_values:\n",
    "    kmeans = KMeans(n_clusters=k, init=\"k-means++\", n_init=10, max_iter=300, random_state=42)\n",
    "    kmeans.fit(features)\n",
    "    inertias.append(kmeans.inertia_)\n",
    "plt.plot(k_values, inertias, '-o')\n",
    "plt.xlabel('Number of clusters (k)')\n",
    "plt.ylabel('Inertia')\n",
    "plt.show()"
   ]
  }
 ],
 "metadata": {
  "colab": {
   "provenance": [
    {
     "file_id": "1Gkg-mff9ggkjEDMEdl4SzKF5HlW0KnuZ",
     "timestamp": 1678255252244
    }
   ]
  },
  "kernelspec": {
   "display_name": "Python 3 (ipykernel)",
   "language": "python",
   "name": "python3"
  },
  "language_info": {
   "codemirror_mode": {
    "name": "ipython",
    "version": 3
   },
   "file_extension": ".py",
   "mimetype": "text/x-python",
   "name": "python",
   "nbconvert_exporter": "python",
   "pygments_lexer": "ipython3",
   "version": "3.9.12"
  }
 },
 "nbformat": 4,
 "nbformat_minor": 5
}
