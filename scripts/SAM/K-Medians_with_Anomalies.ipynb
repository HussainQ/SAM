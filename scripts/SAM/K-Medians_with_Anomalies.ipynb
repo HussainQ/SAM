{
 "cells": [
  {
   "cell_type": "code",
   "execution_count": 11,
   "id": "18fe627d",
   "metadata": {
    "id": "18fe627d",
    "outputId": "5f92d7b7-032c-4a33-ddb7-e3e7181b474b"
   },
   "outputs": [
    {
     "name": "stdout",
     "output_type": "stream",
     "text": [
      "Requirement already satisfied: scikit-learn-extra in c:\\users\\yamin\\anaconda3\\lib\\site-packages (0.2.0)\n",
      "Requirement already satisfied: numpy>=1.13.3 in c:\\users\\yamin\\anaconda3\\lib\\site-packages (from scikit-learn-extra) (1.21.5)\n",
      "Requirement already satisfied: scipy>=0.19.1 in c:\\users\\yamin\\anaconda3\\lib\\site-packages (from scikit-learn-extra) (1.7.3)\n",
      "Requirement already satisfied: scikit-learn>=0.23.0 in c:\\users\\yamin\\anaconda3\\lib\\site-packages (from scikit-learn-extra) (1.0.2)\n",
      "Requirement already satisfied: joblib>=0.11 in c:\\users\\yamin\\anaconda3\\lib\\site-packages (from scikit-learn>=0.23.0->scikit-learn-extra) (1.1.0)\n",
      "Requirement already satisfied: threadpoolctl>=2.0.0 in c:\\users\\yamin\\anaconda3\\lib\\site-packages (from scikit-learn>=0.23.0->scikit-learn-extra) (2.2.0)\n",
      "Note: you may need to restart the kernel to use updated packages.\n"
     ]
    }
   ],
   "source": [
    "pip install scikit-learn-extra"
   ]
  },
  {
   "cell_type": "code",
   "execution_count": 12,
   "id": "ff99a5b6",
   "metadata": {
    "id": "ff99a5b6"
   },
   "outputs": [],
   "source": [
    "import numpy as np\n",
    "from sklearn_extra.cluster import KMedoids\n",
    "from sklearn.metrics import silhouette_score\n",
    "from tabulate import tabulate\n",
    "from sklearn.metrics import pairwise_distances\n",
    "import os"
   ]
  },
  {
   "cell_type": "code",
   "execution_count": 13,
   "id": "2b53201b",
   "metadata": {
    "id": "2b53201b"
   },
   "outputs": [],
   "source": [
    "os.chdir('C:\\\\Users\\\\yamin\\\\OneDrive\\\\Desktop\\\\Features')"
   ]
  },
  {
   "cell_type": "code",
   "execution_count": 14,
   "id": "f25dca39",
   "metadata": {
    "id": "f25dca39"
   },
   "outputs": [],
   "source": [
    "# Read in the text file\n",
    "# load data from .txt file\n",
    "with open('11.txt', \"r\") as infile:\n",
    "    data = np.loadtxt(infile, delimiter=\",\")"
   ]
  },
  {
   "cell_type": "code",
   "execution_count": 15,
   "id": "30a57da0",
   "metadata": {
    "id": "30a57da0"
   },
   "outputs": [],
   "source": [
    "# Extract the first 1000 rows of data\n",
    "data = data[:1000, :]"
   ]
  },
  {
   "cell_type": "code",
   "execution_count": 16,
   "id": "6895826c",
   "metadata": {
    "id": "6895826c"
   },
   "outputs": [],
   "source": [
    "# Split the data into features and labels\n",
    "features = data[:, 1:]\n",
    "labels = data[:, 0]"
   ]
  },
  {
   "cell_type": "code",
   "execution_count": 20,
   "id": "b6b1d864",
   "metadata": {
    "id": "b6b1d864",
    "outputId": "77b4ede4-d4b3-4dde-c15d-ed0bbd55b268"
   },
   "outputs": [
    {
     "name": "stdout",
     "output_type": "stream",
     "text": [
      "K = 3, Silhouette Coefficient: 0.785482658216711, Inertia: 1.1783316353258282e+16\n",
      "Medoids: [[3.80116e+05 8.04530e+12 1.30108e+05 6.73698e+11 2.26656e+02 1.44612e+05\n",
      "  3.32987e+05 6.17815e+12 9.34586e+04 3.10725e+11 1.09916e+03 6.96814e+07\n",
      "  8.50156e+02 4.08252e+07 2.69655e+05 0.00000e+00 2.76465e+05 0.00000e+00\n",
      "  9.68000e+02 0.00000e+00 2.45913e+05 0.00000e+00 2.55399e+05 0.00000e+00\n",
      "  4.15000e+02 0.00000e+00 3.84000e+02 0.00000e+00]\n",
      " [0.00000e+00 0.00000e+00 1.64000e+02 1.28000e+03 0.00000e+00 0.00000e+00\n",
      "  0.00000e+00 0.00000e+00 6.66667e+01 8.88889e+02 0.00000e+00 0.00000e+00\n",
      "  2.33333e+00 5.55556e-01 3.61667e+02 6.54014e+05 1.23333e+02 3.04222e+03\n",
      "  1.60333e+02 1.28534e+05 2.04667e+02 2.09442e+05 6.66667e+01 8.88889e+02\n",
      "  5.16667e+00 1.33472e+02 1.66667e+00 5.55556e-01]\n",
      " [7.18000e+02 0.00000e+00 2.70000e+02 9.00000e+02 6.00000e+00 0.00000e+00\n",
      "  4.90000e+02 0.00000e+00 0.00000e+00 0.00000e+00 4.00000e+00 0.00000e+00\n",
      "  4.50000e+00 2.50000e-01 1.09278e+06 1.36310e+13 5.53307e+04 2.79083e+10\n",
      "  2.67526e+02 1.74777e+05 1.03874e+06 1.25109e+13 1.95515e+04 6.45437e+09\n",
      "  9.94000e+02 8.76149e+06 6.18947e+02 3.09706e+06]]\n",
      "Anomalies: 2\n",
      "\n",
      "K = 4, Silhouette Coefficient: 0.35887721919398613, Inertia: 1.137217093665471e+16\n",
      "Medoids: [[2.54281e+06 5.16639e+13 7.24232e+05 4.15207e+12 4.35667e+02 2.22534e+05\n",
      "  2.22759e+06 3.96756e+13 4.82711e+05 1.84210e+12 7.49622e+03 4.47540e+08\n",
      "  5.74056e+03 2.62107e+08 5.83000e+03 0.00000e+00 2.28400e+04 0.00000e+00\n",
      "  9.60000e+02 0.00000e+00 2.62600e+03 0.00000e+00 1.93480e+04 0.00000e+00\n",
      "  5.60000e+01 0.00000e+00 6.20000e+01 0.00000e+00]\n",
      " [3.35122e+05 7.06801e+12 1.16469e+05 5.92318e+11 2.25575e+02 1.45571e+05\n",
      "  2.93622e+05 5.42765e+12 8.41363e+04 2.73345e+11 9.66904e+02 6.12153e+07\n",
      "  7.48904e+02 3.58653e+07 1.00000e+02 8.00000e+02 4.00000e+01 8.00000e+02\n",
      "  0.00000e+00 0.00000e+00 0.00000e+00 0.00000e+00 0.00000e+00 0.00000e+00\n",
      "  1.66667e+00 2.22222e-01 6.66667e-01 2.22222e-01]\n",
      " [3.06400e+03 5.92900e+03 1.52850e+03 2.20522e+04 6.51000e+02 0.00000e+00\n",
      "  3.49000e+02 2.56000e+02 1.18500e+02 9.30250e+02 4.75000e+01 2.25000e+00\n",
      "  2.50000e+01 4.00000e+00 3.14100e+03 0.00000e+00 1.67700e+03 0.00000e+00\n",
      "  6.51000e+02 0.00000e+00 3.33000e+02 0.00000e+00 1.49000e+02 0.00000e+00\n",
      "  4.90000e+01 0.00000e+00 2.70000e+01 0.00000e+00]\n",
      " [5.20600e+03 0.00000e+00 3.03000e+03 0.00000e+00 4.15000e+02 0.00000e+00\n",
      "  2.69800e+03 0.00000e+00 2.00000e+02 0.00000e+00 4.40000e+01 0.00000e+00\n",
      "  4.90000e+01 0.00000e+00 3.31343e+03 5.29182e+07 2.36527e+03 2.75355e+07\n",
      "  3.34774e+02 1.77557e+05 1.58363e+03 1.19565e+07 8.17905e+02 3.74290e+06\n",
      "  2.79762e+01 3.78074e+03 2.52143e+01 3.00019e+03]]\n",
      "Anomalies: 2\n",
      "\n",
      "K = 5, Silhouette Coefficient: -0.7364101052472998, Inertia: 1.1783302957633222e+16\n",
      "Medoids: [[1.60000e+02 0.00000e+00 1.22000e+02 0.00000e+00 7.51000e+02 0.00000e+00\n",
      "  7.60000e+01 0.00000e+00 3.80000e+01 0.00000e+00 2.00000e+00 0.00000e+00\n",
      "  2.00000e+00 0.00000e+00 1.29186e+03 2.01954e+07 7.89424e+02 6.14034e+06\n",
      "  1.20773e+02 6.55471e+04 8.80439e+02 8.77802e+06 3.73061e+02 1.38424e+06\n",
      "  7.12121e+00 6.58167e+02 7.21212e+00 5.62531e+02]\n",
      " [3.80116e+05 8.04530e+12 1.30108e+05 6.73698e+11 2.26656e+02 1.44612e+05\n",
      "  3.32987e+05 6.17815e+12 9.34586e+04 3.10725e+11 1.09916e+03 6.96814e+07\n",
      "  8.50156e+02 4.08252e+07 2.69655e+05 0.00000e+00 2.76465e+05 0.00000e+00\n",
      "  9.68000e+02 0.00000e+00 2.45913e+05 0.00000e+00 2.55399e+05 0.00000e+00\n",
      "  4.15000e+02 0.00000e+00 3.84000e+02 0.00000e+00]\n",
      " [7.18000e+02 0.00000e+00 2.70000e+02 9.00000e+02 6.00000e+00 0.00000e+00\n",
      "  4.90000e+02 0.00000e+00 0.00000e+00 0.00000e+00 4.00000e+00 0.00000e+00\n",
      "  4.50000e+00 2.50000e-01 1.09278e+06 1.36310e+13 5.53307e+04 2.79083e+10\n",
      "  2.67526e+02 1.74777e+05 1.03874e+06 1.25109e+13 1.95515e+04 6.45437e+09\n",
      "  9.94000e+02 8.76149e+06 6.18947e+02 3.09706e+06]\n",
      " [3.06400e+03 5.92900e+03 1.52850e+03 2.20522e+04 6.51000e+02 0.00000e+00\n",
      "  3.49000e+02 2.56000e+02 1.18500e+02 9.30250e+02 4.75000e+01 2.25000e+00\n",
      "  2.50000e+01 4.00000e+00 3.14100e+03 0.00000e+00 1.67700e+03 0.00000e+00\n",
      "  6.51000e+02 0.00000e+00 3.33000e+02 0.00000e+00 1.49000e+02 0.00000e+00\n",
      "  4.90000e+01 0.00000e+00 2.70000e+01 0.00000e+00]\n",
      " [5.20600e+03 0.00000e+00 3.03000e+03 0.00000e+00 4.15000e+02 0.00000e+00\n",
      "  2.69800e+03 0.00000e+00 2.00000e+02 0.00000e+00 4.40000e+01 0.00000e+00\n",
      "  4.90000e+01 0.00000e+00 3.31343e+03 5.29182e+07 2.36527e+03 2.75355e+07\n",
      "  3.34774e+02 1.77557e+05 1.58363e+03 1.19565e+07 8.17905e+02 3.74290e+06\n",
      "  2.79762e+01 3.78074e+03 2.52143e+01 3.00019e+03]]\n",
      "Anomalies: 2\n",
      "\n"
     ]
    }
   ],
   "source": [
    "# Set the range of K values to try\n",
    "k_values = range(3, 6)\n",
    "\n",
    "# Initialize the KMedoids models\n",
    "k_medoids_models = [KMedoids(n_clusters=k, init=\"random\", metric=\"euclidean\") for k in k_values]\n",
    "\n",
    "table_data = []\n",
    "# Fit the models to the data and get the predicted labels and medoids for each K value\n",
    "predicted_labels_and_medoids = []\n",
    "for k_medoids in k_medoids_models:\n",
    "    k_medoids.fit(features)\n",
    "    predicted_labels = k_medoids.labels_\n",
    "    medoids = k_medoids.cluster_centers_\n",
    "    predicted_labels_and_medoids.append((predicted_labels, medoids))\n",
    "\n",
    "    # Compute Silhouette Coefficient and Inertia\n",
    "    silhouette_coef = silhouette_score(features, predicted_labels)\n",
    "    inertia = sum(np.min(k_medoids.transform(features), axis=1))\n",
    "\n",
    "    # Compute distances between each point and its assigned medoid\n",
    "    distances = pairwise_distances(features, medoids)\n",
    "    \n",
    "    # Set a threshold value for anomaly detection\n",
    "    threshold = np.mean(distances) + 2*np.std(distances)\n",
    "    # Identify anomalies as points that are farther away from their medoid than the threshold value\n",
    "    anomalies = np.where(distances > threshold)\n",
    "    anomalies_count = len(anomalies)\n",
    "\n",
    "    print(f\"K = {k_medoids.n_clusters}, Silhouette Coefficient: {silhouette_coef}, Inertia: {inertia}\")\n",
    "    #print(f\"Predicted Labels: {predicted_labels}\")\n",
    "    print(f\"Medoids: {medoids}\")\n",
    "    print(f\"Anomalies: {anomalies_count}\")\n",
    "    print()\n",
    "    "
   ]
  },
  {
   "cell_type": "code",
   "execution_count": null,
   "id": "a7912663",
   "metadata": {},
   "outputs": [],
   "source": []
  }
 ],
 "metadata": {
  "colab": {
   "provenance": [
    {
     "file_id": "1Gkg-mff9ggkjEDMEdl4SzKF5HlW0KnuZ",
     "timestamp": 1678255252244
    }
   ]
  },
  "kernelspec": {
   "display_name": "Python 3 (ipykernel)",
   "language": "python",
   "name": "python3"
  },
  "language_info": {
   "codemirror_mode": {
    "name": "ipython",
    "version": 3
   },
   "file_extension": ".py",
   "mimetype": "text/x-python",
   "name": "python",
   "nbconvert_exporter": "python",
   "pygments_lexer": "ipython3",
   "version": "3.9.12"
  }
 },
 "nbformat": 4,
 "nbformat_minor": 5
}
